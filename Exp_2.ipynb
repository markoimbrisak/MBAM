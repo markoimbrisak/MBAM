{
 "cells": [
  {
   "cell_type": "code",
   "execution_count": 1,
   "metadata": {},
   "outputs": [],
   "source": [
    "%run \"MBAM_codes.py\"\n",
    "class model(MBAM_plotting):\n",
    "    def __init__(self,*args,**kwargs):\n",
    "        MBAM_plotting.__init__(self,self._model,'Exp_2/eksponencijala_1',*args,**kwargs)\n",
    "        self._title = r'$\\theta^0+e^{-t\\theta^1}$'\n",
    "    def _model(self,T,θ):\n",
    "        x1,x2=θ\n",
    "        return np.exp(-T*x2)+x1\n",
    "N_D = 100\n",
    "σ   = 1\n",
    "bf  = np.array([0.,1.])\n",
    "X   = np.linspace(-1,10,N_D)\n",
    "Y   = np.random.normal(0,σ,N_D)+model._model(model,X,bf)\n",
    "MPL = model(X,Y,Y/Y,bf,xlim=[-2,2],ylim=[0,3])\n",
    "\n",
    "θ1, θ2, X, Y,ALL=MPL.apply_on_mesh(30,[lambda θ:MPL.χ2(θ),\n",
    "                                       lambda θ:np.linalg.eigh(MPL.g(θ))[1][0,0],\n",
    "                                       lambda θ:np.linalg.eigh(MPL.g(θ))[1][1,0]])\n",
    "\n",
    "MPL.MBAM   = MPL.run_MBAM(bf,k=0,T=np.linspace(0,1,20))\n",
    "\n",
    "f,ax = plt.subplots(1,4,figsize=(4*4,4))\n",
    "MPL.plot_data(ax[:2])\n",
    "MPL.plot_scalar(ax[2],X,Y, ALL[:,:,0], ALL[:,:,1], ALL[:,:,2])\n",
    "ax[0].set_title(MPL._title)\n",
    "ax[2].plot(MPL.MBAM.θ[:,0],MPL.MBAM.θ[:,1],'r')\n",
    "ax[2].set_title('$\\chi^2$')\n",
    "ax[3].plot(MPL.MBAM.τ,MPL.MBAM.θ)\n",
    "ax[3].set_ylabel(r'$\\theta$')\n",
    "ax[3].set_xlabel(r'$\\tau$')\n",
    "f.tight_layout()\n",
    "f.savefig(MPL.NAME+'_model.pdf')\n",
    "\n",
    "f,axs = plt.subplots(1,2,figsize=(10,5))\n",
    "MPL.bar_plot(axs[0],np.linalg.eigh(MPL.g(MPL.MBAM.θ[0]))[1][0,:],\n",
    "             np.linalg.eigh(MPL.g(MPL.MBAM.θ[-1]))[1][0,:],colors=['C3','C2'],\n",
    "             labels=[r\"$\\tau=0$\",r\"Konačan $\\tau$\"])\n",
    "axs[1].plot(MPL.MBAM.τ,MPL.MBAM.ω0/MPL.MBAM.ω0[0],label=r'$\\omega_0/\\omega_0(\\tau=0)$')\n",
    "axs[1].plot(MPL.MBAM.τ,MPL.MBAM.R/MPL.MBAM.R[0],label=r'$Ric/Ric(\\tau=0)$')\n",
    "axs[1].plot(MPL.MBAM.τ,MPL.MBAM.detg/MPL.MBAM.detg[0],label=r'$\\det g/det g(\\tau=0)$')\n",
    "axs[1].legend()\n",
    "axs[1].set_yscale('log')\n",
    "f.tight_layout()\n",
    "f.savefig(MPL.NAME+'_barplot.pdf')\n",
    "f,axs = plt.subplots(1,2,figsize=(10,5))\n",
    "MPL.bar_plot(axs[0],np.linalg.eigh(MPL.g(MPL.MBAM.θ[0]))[1][0,:],\n",
    "             np.linalg.eigh(MPL.g(MPL.MBAM.θ[-1]))[1][0,:],colors=['C3','C2'],\n",
    "             labels=[r\"$\\tau=0$\",r\"Konačan $\\tau$\"])\n",
    "axs[1].plot(MPL.MBAM.τ,MPL.MBAM.ω0,label='$\\omega_0$')\n",
    "axs[1].plot(MPL.MBAM.τ,MPL.MBAM.R,label='$Ric$')\n",
    "axs[1].plot(MPL.MBAM.τ,MPL.MBAM.detg,label='$\\det g$')\n",
    "axs[1].legend()\n",
    "axs[1].set_yscale('symlog')\n",
    "f.tight_layout()\n",
    "f.savefig(MPL.NAME+'_nenorm.pdf')"
   ]
  },
  {
   "cell_type": "code",
   "execution_count": null,
   "metadata": {},
   "outputs": [],
   "source": []
  }
 ],
 "metadata": {
  "kernelspec": {
   "display_name": "Python 3",
   "language": "python",
   "name": "python3"
  },
  "language_info": {
   "codemirror_mode": {
    "name": "ipython",
    "version": 3
   },
   "file_extension": ".py",
   "mimetype": "text/x-python",
   "name": "python",
   "nbconvert_exporter": "python",
   "pygments_lexer": "ipython3",
   "version": "3.5.6"
  }
 },
 "nbformat": 4,
 "nbformat_minor": 2
}
